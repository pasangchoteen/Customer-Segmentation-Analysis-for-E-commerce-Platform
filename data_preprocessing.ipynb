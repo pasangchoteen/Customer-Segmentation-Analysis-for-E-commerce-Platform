{
 "cells": [
  {
   "cell_type": "code",
   "execution_count": 61,
   "metadata": {},
   "outputs": [],
   "source": [
    "import pandas as pd\n",
    "import numpy as np\n",
    "import matplotlib.pyplot as plt"
   ]
  },
  {
   "cell_type": "code",
   "execution_count": 34,
   "metadata": {},
   "outputs": [
    {
     "name": "stdout",
     "output_type": "stream",
     "text": [
      "CSV files combined successfully!\n"
     ]
    }
   ],
   "source": [
    "# List to hold the file names\n",
    "file_names = ['amazon_data_batch_{}.csv'.format(i) for i in range(8)]\n",
    "\n",
    "# List to hold the DataFrame objects\n",
    "data_frames = []\n",
    "\n",
    "# Read each CSV file and append its DataFrame to the list\n",
    "for file_name in file_names:\n",
    "    df = pd.read_csv(file_name)\n",
    "    data_frames.append(df)\n",
    "\n",
    "# Concatenate all DataFrames in the list along the rows\n",
    "combined_df = pd.concat(data_frames, ignore_index=True)\n",
    "\n",
    "# Write the combined DataFrame to a new CSV file\n",
    "combined_df.to_csv('combined_amazon_data.csv', index=False)\n",
    "\n",
    "print(\"CSV files combined successfully!\")\n"
   ]
  },
  {
   "cell_type": "code",
   "execution_count": 35,
   "metadata": {},
   "outputs": [
    {
     "name": "stdout",
     "output_type": "stream",
     "text": [
      "                                               title      price  \\\n",
      "0  Corsair 4000D Airflow Tempered Glass Mid-Tower...    $130.00   \n",
      "1  Qcta-Core i9 9880H Mini Desktop PC, Windows 11...    $979.99   \n",
      "2  GEEKOM Mini IT13 Mini PC 13th Gen Intel Core i...    $849.00   \n",
      "3  11th Generation i7 1165G7 Quad Core Mini PC, S...  $1,499.99   \n",
      "4  KAMRUI [Gaming PC] Mini PC AMD Ryzen 7 5700U U...    $629.99   \n",
      "\n",
      "               rating         reviews           availability   category  \\\n",
      "0  4.7 out of 5 stars  30,351 ratings               In stock  Computers   \n",
      "1  5.0 out of 5 stars       6 ratings               In stock        NaN   \n",
      "2  4.8 out of 5 stars               8               In stock  Computers   \n",
      "3  4.4 out of 5 stars             NaN  Only 2 left in stock.  Computers   \n",
      "4  4.3 out of 5 stars     175 ratings               In stock  Computers   \n",
      "\n",
      "  sales_rank      brand  \n",
      "0        276   ‎CORSAIR  \n",
      "1        NaN  ‎ASPIRING  \n",
      "2      9,938    ‎GEEKOM  \n",
      "3    214,874  ‎ASPIRING  \n",
      "4      1,199    ‎KAMRUI  \n"
     ]
    }
   ],
   "source": [
    "# Load the data\n",
    "data = pd.read_csv('combined_amazon_data.csv')\n",
    "\n",
    "# Display the first few rows of the dataframe\n",
    "print(data.head())"
   ]
  },
  {
   "cell_type": "code",
   "execution_count": 36,
   "metadata": {},
   "outputs": [
    {
     "name": "stdout",
     "output_type": "stream",
     "text": [
      "                                                    title    price  \\\n",
      "count                                                  55       55   \n",
      "unique                                                 52       47   \n",
      "top     GEEKOM Mini IT13 Mini PC 13th Gen Intel Core i...  $349.00   \n",
      "freq                                                    2        3   \n",
      "\n",
      "                    rating     reviews availability   category sales_rank  \\\n",
      "count                   55          46           55         52         52   \n",
      "unique                  13          38            8          1         49   \n",
      "top     5.0 out of 5 stars  22 ratings     In stock  Computers      9,938   \n",
      "freq                    10           2           45         52          2   \n",
      "\n",
      "          brand  \n",
      "count        55  \n",
      "unique       19  \n",
      "top     ‎GEEKOM  \n",
      "freq         10  \n"
     ]
    }
   ],
   "source": [
    "# Display summary statistics\n",
    "print(data.describe())"
   ]
  },
  {
   "cell_type": "code",
   "execution_count": 37,
   "metadata": {},
   "outputs": [
    {
     "name": "stdout",
     "output_type": "stream",
     "text": [
      "title           0\n",
      "price           0\n",
      "rating          0\n",
      "reviews         9\n",
      "availability    0\n",
      "category        3\n",
      "sales_rank      3\n",
      "brand           0\n",
      "dtype: int64\n"
     ]
    }
   ],
   "source": [
    "# Check for missing values\n",
    "print(data.isnull().sum())"
   ]
  },
  {
   "cell_type": "code",
   "execution_count": 38,
   "metadata": {},
   "outputs": [
    {
     "name": "stdout",
     "output_type": "stream",
     "text": [
      "title           object\n",
      "price           object\n",
      "rating          object\n",
      "reviews         object\n",
      "availability    object\n",
      "category        object\n",
      "sales_rank      object\n",
      "brand           object\n",
      "dtype: object\n"
     ]
    }
   ],
   "source": [
    "# Check data types\n",
    "print(data.dtypes)"
   ]
  },
  {
   "cell_type": "code",
   "execution_count": 39,
   "metadata": {},
   "outputs": [
    {
     "name": "stdout",
     "output_type": "stream",
     "text": [
      "0     30,351\n",
      "1          6\n",
      "2          8\n",
      "3          1\n",
      "4        175\n",
      "5          3\n",
      "6          1\n",
      "7          2\n",
      "8          5\n",
      "9          1\n",
      "10         2\n",
      "11        49\n",
      "12         5\n",
      "13        63\n",
      "14        56\n",
      "15       107\n",
      "16        50\n",
      "17         1\n",
      "18         6\n",
      "19        74\n",
      "20     5,771\n",
      "21        10\n",
      "22         4\n",
      "23        22\n",
      "24         1\n",
      "25         3\n",
      "26         1\n",
      "27        22\n",
      "28         2\n",
      "29        80\n",
      "30        87\n",
      "31       262\n",
      "32        35\n",
      "33         1\n",
      "34        17\n",
      "35         8\n",
      "36         6\n",
      "37       379\n",
      "38         7\n",
      "39        64\n",
      "40        22\n",
      "41         1\n",
      "42       171\n",
      "43       590\n",
      "44         1\n",
      "45         1\n",
      "46       285\n",
      "47         3\n",
      "48         1\n",
      "49       263\n",
      "50         8\n",
      "51         1\n",
      "52         4\n",
      "53        15\n",
      "54         8\n",
      "Name: reviews, dtype: object\n"
     ]
    }
   ],
   "source": [
    "#reviews are like 30,351 ratings so we will only keep the no for ease of analysis\n",
    "\n",
    "# Split the 'reviews' column by whitespace and extract the first part (which should be the numeric part)\n",
    "data['reviews'] = data['reviews'].str.split().str[0]\n",
    "\n",
    "# Replace NaN values with 1 because there are no nulls in ratings\n",
    "data['reviews'].fillna(1, inplace=True)\n",
    "\n",
    "# Display the modified DataFrame\n",
    "print(data['reviews'])"
   ]
  },
  {
   "cell_type": "code",
   "execution_count": 40,
   "metadata": {},
   "outputs": [
    {
     "data": {
      "text/plain": [
       "array(['In stock', 'Only 2 left in stock.', 'Only 4 left in stock.',\n",
       "       'Only 5 left in stock.', 'Only 1 left in stock.',\n",
       "       'Only 3 left in stock (more on the way).', 'Only 3 left in stock.',\n",
       "       'Only 1 left in stock (more on the way).'], dtype=object)"
      ]
     },
     "execution_count": 40,
     "metadata": {},
     "output_type": "execute_result"
    }
   ],
   "source": [
    "#   Standardizing the \"availability\" column to either \"in stock\" or \"out of stock\"\n",
    "data['availability'].unique()"
   ]
  },
  {
   "cell_type": "code",
   "execution_count": 41,
   "metadata": {},
   "outputs": [
    {
     "name": "stdout",
     "output_type": "stream",
     "text": [
      "['In stock']\n"
     ]
    }
   ],
   "source": [
    "# Convert availability to lowercase and then to either 'In stock' or 'Out of stock'\n",
    "data['availability'] = data['availability'].str.lower().apply(lambda x: 'In stock' if 'in stock' in x else 'Out of stock')\n",
    "\n",
    "# Display the modified DataFrame\n",
    "print(data['availability'].unique())"
   ]
  },
  {
   "cell_type": "code",
   "execution_count": 42,
   "metadata": {},
   "outputs": [
    {
     "data": {
      "text/plain": [
       "array(['Computers', nan], dtype=object)"
      ]
     },
     "execution_count": 42,
     "metadata": {},
     "output_type": "execute_result"
    }
   ],
   "source": [
    "data['category'].unique()"
   ]
  },
  {
   "cell_type": "code",
   "execution_count": 43,
   "metadata": {},
   "outputs": [
    {
     "data": {
      "text/plain": [
       "array(['Computers'], dtype=object)"
      ]
     },
     "execution_count": 43,
     "metadata": {},
     "output_type": "execute_result"
    }
   ],
   "source": [
    "#Since all the categories are \"computer\" lets fill the null values with computer\n",
    "\n",
    "data['category'].fillna('Computers', inplace=True)\n",
    "data['category'].unique()"
   ]
  },
  {
   "cell_type": "code",
   "execution_count": 44,
   "metadata": {},
   "outputs": [],
   "source": [
    "#fill null values in sales_rank with 0 to indicate missing data.\n",
    "data['sales_rank'].fillna(0, inplace=True)"
   ]
  },
  {
   "cell_type": "code",
   "execution_count": 45,
   "metadata": {},
   "outputs": [
    {
     "name": "stdout",
     "output_type": "stream",
     "text": [
      "title           0\n",
      "price           0\n",
      "rating          0\n",
      "reviews         0\n",
      "availability    0\n",
      "category        0\n",
      "sales_rank      0\n",
      "brand           0\n",
      "dtype: int64\n"
     ]
    }
   ],
   "source": [
    "# Check for missing values\n",
    "print(data.isnull().sum())"
   ]
  },
  {
   "cell_type": "code",
   "execution_count": 46,
   "metadata": {},
   "outputs": [],
   "source": [
    "# Assuming data is your DataFrame containing the 'rating' column\n",
    "\n",
    "# Apply a lambda function to split each value in the 'rating' column and keep the first part\n",
    "data['rating'] = data['rating'].apply(lambda x: x.split()[0] if isinstance(x, str) else x)\n"
   ]
  },
  {
   "cell_type": "code",
   "execution_count": 47,
   "metadata": {},
   "outputs": [
    {
     "data": {
      "text/plain": [
       "array(['4.7', '5.0', '4.8', '4.4', '4.3', '4.6', 'Previous', '4.5', '4.0',\n",
       "       '4.2', '3.8', '3.7', '4.1'], dtype=object)"
      ]
     },
     "execution_count": 47,
     "metadata": {},
     "output_type": "execute_result"
    }
   ],
   "source": [
    "data['rating'].unique()"
   ]
  },
  {
   "cell_type": "code",
   "execution_count": 48,
   "metadata": {},
   "outputs": [],
   "source": [
    "# Define a dictionary to map alphabetic ratings to numeric ratings\n",
    "rating_mapping = {'Previous': 0}\n",
    "\n",
    "# Replace alphabetic values in the 'rating' column with the corresponding numeric values\n",
    "data['rating'] = data['rating'].replace(rating_mapping, regex=True)"
   ]
  },
  {
   "cell_type": "code",
   "execution_count": 49,
   "metadata": {},
   "outputs": [
    {
     "data": {
      "text/plain": [
       "0     4.7\n",
       "1     5.0\n",
       "2     4.8\n",
       "3     4.4\n",
       "4     4.3\n",
       "5     4.6\n",
       "6     5.0\n",
       "7     5.0\n",
       "8     4.4\n",
       "9       0\n",
       "10    5.0\n",
       "11    4.8\n",
       "12    4.6\n",
       "13    4.5\n",
       "14    4.8\n",
       "15    4.3\n",
       "16    4.5\n",
       "17    4.0\n",
       "18    4.8\n",
       "19    4.4\n",
       "20    4.7\n",
       "21    4.7\n",
       "22    5.0\n",
       "23    4.6\n",
       "24      0\n",
       "25    5.0\n",
       "26      0\n",
       "27    4.6\n",
       "28    5.0\n",
       "29    4.2\n",
       "30    4.6\n",
       "31    4.2\n",
       "32    4.5\n",
       "33    4.6\n",
       "34    4.6\n",
       "35    4.8\n",
       "36    4.4\n",
       "37    4.4\n",
       "38    3.8\n",
       "39    4.6\n",
       "40    4.2\n",
       "41    5.0\n",
       "42    4.4\n",
       "43    4.4\n",
       "44      0\n",
       "45      0\n",
       "46    4.2\n",
       "47    5.0\n",
       "48      0\n",
       "49    4.3\n",
       "50    3.7\n",
       "51      0\n",
       "52    5.0\n",
       "53    4.1\n",
       "54    4.7\n",
       "Name: rating, dtype: object"
      ]
     },
     "execution_count": 49,
     "metadata": {},
     "output_type": "execute_result"
    }
   ],
   "source": [
    "data['rating']"
   ]
  },
  {
   "cell_type": "code",
   "execution_count": 50,
   "metadata": {},
   "outputs": [],
   "source": [
    "# Convert the 'rating' column to float\n",
    "data['rating'] = data['rating'].astype(float)"
   ]
  },
  {
   "cell_type": "code",
   "execution_count": 51,
   "metadata": {},
   "outputs": [],
   "source": [
    "# Remove the dollar sign ('$') from the 'price' column\n",
    "data['price'] = data['price'].str.replace('$', '')\n",
    "\n",
    "# Remove commas from the 'price' column\n",
    "data['price'] = data['price'].str.replace(',', '')\n",
    "\n",
    "# Convert the 'price' column to float\n",
    "data['price'] = data['price'].astype(float)"
   ]
  },
  {
   "cell_type": "code",
   "execution_count": 1,
   "metadata": {},
   "outputs": [
    {
     "ename": "NameError",
     "evalue": "name 'data' is not defined",
     "output_type": "error",
     "traceback": [
      "\u001b[0;31m---------------------------------------------------------------------------\u001b[0m",
      "\u001b[0;31mNameError\u001b[0m                                 Traceback (most recent call last)",
      "Cell \u001b[0;32mIn[1], line 1\u001b[0m\n\u001b[0;32m----> 1\u001b[0m data\u001b[38;5;241m.\u001b[39mhead()\n",
      "\u001b[0;31mNameError\u001b[0m: name 'data' is not defined"
     ]
    }
   ],
   "source": [
    "data.head()"
   ]
  },
  {
   "cell_type": "code",
   "execution_count": 53,
   "metadata": {},
   "outputs": [
    {
     "data": {
      "text/plain": [
       "title           0\n",
       "price           0\n",
       "rating          0\n",
       "reviews         0\n",
       "availability    0\n",
       "category        0\n",
       "sales_rank      0\n",
       "brand           0\n",
       "dtype: int64"
      ]
     },
     "execution_count": 53,
     "metadata": {},
     "output_type": "execute_result"
    }
   ],
   "source": [
    "\n",
    "data.isna().sum()"
   ]
  },
  {
   "cell_type": "code",
   "execution_count": 54,
   "metadata": {},
   "outputs": [],
   "source": [
    "# Remove commas from the 'reviews' column\n",
    "data['reviews'] = data['reviews'].str.replace(',', '')\n",
    "\n",
    "# Fill missing values (NaN) in the 'reviews' column with '0'\n",
    "data['reviews'].fillna('1', inplace=True)\n",
    "\n",
    "# Convert the 'reviews' column to float\n",
    "data['reviews'] = data['reviews'].astype(int)"
   ]
  },
  {
   "cell_type": "code",
   "execution_count": 55,
   "metadata": {},
   "outputs": [],
   "source": [
    "## Remove commas from the 'sales_rank' column\n",
    "data['sales_rank'] = data['sales_rank'].str.replace(',', '')\n",
    "\n",
    "# Fill missing values (sales_rank) in the 'reviews' column with '0'\n",
    "data['sales_rank'].fillna('0', inplace=True)\n",
    "\n",
    "#Convert the 'sales_rank' column to float\n",
    "data['sales_rank'] = data['sales_rank'].astype(int)"
   ]
  },
  {
   "cell_type": "code",
   "execution_count": 56,
   "metadata": {},
   "outputs": [],
   "source": [
    "#Convert the 'title' column to string\n",
    "data['title'] = data['title'].astype(str)\n",
    "\n",
    "#Convert the 'category' column to string\n",
    "data['category'] = data['category'].astype(str)"
   ]
  },
  {
   "cell_type": "code",
   "execution_count": 57,
   "metadata": {},
   "outputs": [],
   "source": [
    "# Convert 'availability' to boolean\n",
    "data['availability'] = data['availability'].str.contains('In stock')\n",
    "\n",
    "# Optionally, you can convert the boolean values to integers (0 or 1) if needed\n",
    "data['availability'] = data['availability'].astype(int)"
   ]
  },
  {
   "cell_type": "code",
   "execution_count": 62,
   "metadata": {},
   "outputs": [
    {
     "data": {
      "image/png": "[encoded data removed]",
      "text/plain": [
       "<Figure size 1000x600 with 1 Axes>"
      ]
     },
     "metadata": {},
     "output_type": "display_data"
    }
   ],
   "source": [
    "# Select only integer and float columns\n",
    "numeric_columns = data.select_dtypes(include=['int', 'float'])\n",
    "\n",
    "# Create a boxplot to check outliers\n",
    "plt.figure(figsize=(10, 6))\n",
    "numeric_columns.boxplot()\n",
    "plt.title('Boxplot of Columns')\n",
    "plt.xlabel('Column Name')\n",
    "plt.ylabel('Values')\n",
    "plt.xticks(rotation=45)  # Rotate x-axis labels for better readability\n",
    "plt.show()\n"
   ]
  },
  {
   "cell_type": "code",
   "execution_count": 63,
   "metadata": {},
   "outputs": [],
   "source": [
    "# Calculate the 5th and 95th percentiles for numeric columns\n",
    "\n",
    "trimmed_data = data.copy()\n",
    "for col in ['reviews', 'sales_rank']:\n",
    "    percentile_5 = data[col].quantile(0.05)\n",
    "    percentile_95 = data[col].quantile(0.95)\n",
    "    trimmed_col = data[(data[col] >= percentile_5) & (data[col] <= percentile_95)][col]\n",
    "    trimmed_data[col] = trimmed_col"
   ]
  },
  {
   "cell_type": "code",
   "execution_count": 66,
   "metadata": {},
   "outputs": [
    {
     "data": {
      "text/plain": [
       "title           0\n",
       "price           0\n",
       "rating          0\n",
       "reviews         3\n",
       "availability    0\n",
       "category        0\n",
       "sales_rank      6\n",
       "brand           0\n",
       "dtype: int64"
      ]
     },
     "execution_count": 66,
     "metadata": {},
     "output_type": "execute_result"
    }
   ],
   "source": [
    "#check for nulls after outlier removal\n",
    "trimmed_data.isna().sum()"
   ]
  },
  {
   "cell_type": "code",
   "execution_count": 75,
   "metadata": {},
   "outputs": [],
   "source": [
    "# Fill missing values (NaN) in the 'reviews' column with '0'\n",
    "trimmed_data['reviews'].fillna('1', inplace=True)\n",
    "\n",
    "#drop the columns of missing values in sales_rank\n",
    "trimmed_data.dropna(subset=['sales_rank'], inplace=True)"
   ]
  },
  {
   "cell_type": "code",
   "execution_count": 78,
   "metadata": {},
   "outputs": [
    {
     "data": {
      "image/png": "[encoded data removed]",
      "text/plain": [
       "<Figure size 1000x600 with 1 Axes>"
      ]
     },
     "metadata": {},
     "output_type": "display_data"
    }
   ],
   "source": [
    "# Select only integer and float columns\n",
    "numeric_columns = trimmed_data.select_dtypes(include=['int', 'float'])\n",
    "\n",
    "# Create a boxplot to check outliers\n",
    "plt.figure(figsize=(10, 6))\n",
    "numeric_columns.boxplot()\n",
    "plt.title('Boxplot of Columns')\n",
    "plt.xlabel('Column Name')\n",
    "plt.ylabel('Values')\n",
    "plt.xticks(rotation=45)  # Rotate x-axis labels for better readability\n",
    "plt.show()\n"
   ]
  },
  {
   "cell_type": "code",
   "execution_count": 79,
   "metadata": {},
   "outputs": [],
   "source": [
    "# Write the cleaned data to a new CSV file\n",
    "trimmed_data.to_csv('cleaned_amazon_data.csv', index=False)"
   ]
  },
  {
   "cell_type": "code",
   "execution_count": null,
   "metadata": {},
   "outputs": [],
   "source": []
  }
 ],
 "metadata": {
  "kernelspec": {
   "display_name": "base",
   "language": "python",
   "name": "python3"
  },
  "language_info": {
   "codemirror_mode": {
    "name": "ipython",
    "version": 3
   },
   "file_extension": ".py",
   "mimetype": "text/x-python",
   "name": "python",
   "nbconvert_exporter": "python",
   "pygments_lexer": "ipython3",
   "version": "3.11.7"
  }
 },
 "nbformat": 4,
 "nbformat_minor": 2
}
